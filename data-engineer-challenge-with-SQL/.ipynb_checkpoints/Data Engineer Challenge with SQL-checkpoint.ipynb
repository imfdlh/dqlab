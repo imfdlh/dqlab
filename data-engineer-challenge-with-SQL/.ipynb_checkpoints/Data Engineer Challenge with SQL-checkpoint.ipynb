{
 "cells": [
  {
   "cell_type": "markdown",
   "metadata": {},
   "source": [
    "## Produk DQLab Mart\n",
    "![title](tables.png)\n",
    "Mengacu pada table ms_produk, tampilkan daftar produk yang memiliki harga antara 50.000 and 150.000.\n",
    "\n",
    "Nama kolom yang harus ditampilkan: no_urut, kode_produk, nama_produk, dan harga."
   ]
  },
  {
   "cell_type": "raw",
   "metadata": {},
   "source": [
    "select no_urut, kode_produk, nama_produk, harga from ms_produk where harga >= 50000 and harga <= 150000"
   ]
  },
  {
   "cell_type": "markdown",
   "metadata": {},
   "source": [
    "## Thumb drive di DQLab Mart\n",
    "\n",
    "Tampilkan semua produk yang mengandung kata Flashdisk.\n",
    "\n",
    "Nama kolom yang harus ditampilkan: no_urut, kode_produk, nama_produk, dan harga."
   ]
  },
  {
   "cell_type": "raw",
   "metadata": {},
   "source": [
    "select no_urut, kode_produk, nama_produk, harga from ms_produk where nama_produk like '%Flashdisk%'"
   ]
  },
  {
   "cell_type": "markdown",
   "metadata": {},
   "source": [
    "## Pelanggan Bergelar\n",
    "\n",
    "Tampilkan hanya nama-nama pelanggan yang hanya memiliki gelar-gelar berikut: S.H, Ir. dan Drs.\n",
    "\n",
    "Nama kolom yang harus ditampilkan: no_urut, kode_pelanggan, nama_pelanggan, dan alamat."
   ]
  },
  {
   "cell_type": "raw",
   "metadata": {},
   "source": [
    "select no_urut,kode_pelanggan,nama_pelanggan,alamat from ms_pelanggan where nama_pelanggan like '%S.H%' or nama_pelanggan like '%Ir.%' or nama_pelanggan like '%Drs.%'"
   ]
  },
  {
   "cell_type": "markdown",
   "metadata": {},
   "source": [
    "## Mengurutkan Nama Pelanggan\n",
    "\n",
    "Tampilkan nama-nama pelanggan dan urutkan hasilnya berdasarkan kolom nama_pelanggan dari yang terkecil ke yang terbesar (A ke Z).\n",
    "\n",
    "Nama kolom yang harus ditampilkan: nama_pelanggan."
   ]
  },
  {
   "cell_type": "raw",
   "metadata": {},
   "source": [
    "select nama_pelanggan from ms_pelanggan order by nama_pelanggan asc"
   ]
  },
  {
   "cell_type": "markdown",
   "metadata": {},
   "source": [
    "## Mengurutkan Nama Pelanggan Tanpa Gelar\n",
    "\n",
    "Tampilkan nama-nama pelanggan dan urutkan hasilnya berdasarkan kolom nama_pelanggan dari yang terkecil ke yang terbesar (A ke Z), namun gelar tidak boleh menjadi bagian dari urutan. Contoh: Ir. Agus Nugraha harus berada di atas Heidi Goh.\n",
    "\n",
    "Nama kolom yang harus ditampilkan: nama_pelanggan."
   ]
  },
  {
   "cell_type": "raw",
   "metadata": {},
   "source": [
    "select nama_pelanggan from ms_pelanggan order by\n",
    "case when left(nama_pelanggan,4)='Ir. ' then replace (nama_pelanggan,'Ir. ', '')\n",
    "else nama_pelanggan\n",
    "end"
   ]
  },
  {
   "cell_type": "markdown",
   "metadata": {},
   "source": [
    "## Nama Pelanggan yang Paling Panjang\n",
    "\n",
    "Tampilkan nama pelanggan yang memiliki nama paling panjang. Jika ada lebih dari 1 orang yang memiliki panjang nama yang sama, tampilkan semuanya.\n",
    "\n",
    "Nama kolom yang harus ditampilkan: nama_pelanggan."
   ]
  },
  {
   "cell_type": "raw",
   "metadata": {},
   "source": [
    "select nama_pelanggan from ms_pelanggan where length(nama_pelanggan) = (select max(hasil) from (select length(nama_pelanggan) hasil from ms_pelanggan) ms_pelanggan)"
   ]
  },
  {
   "cell_type": "markdown",
   "metadata": {},
   "source": [
    "## Nama Pelanggan yang Paling Panjang dengan Gelar\n",
    "\n",
    "Tampilkan nama orang yang memiliki nama paling panjang (pada row atas), dan nama orang paling pendek (pada row setelahnya). Gelar menjadi bagian dari nama. Jika ada lebih dari satu nama yang paling panjang atau paling pendek, harus ditampilkan semuanya.\n",
    "\n",
    "Nama kolom yang harus ditampilkan: nama_pelanggan."
   ]
  },
  {
   "cell_type": "raw",
   "metadata": {},
   "source": [
    "select nama_pelanggan from ms_pelanggan where length(nama_pelanggan) = (select max(hasil) from (select length(nama_pelanggan) hasil from ms_pelanggan) ms_pelanggan) union select nama_pelanggan from ms_pelanggan where length(nama_pelanggan) = (select min(hasil) from (select length(nama_pelanggan) hasil from ms_pelanggan) ms_pelanggan) "
   ]
  },
  {
   "cell_type": "markdown",
   "metadata": {},
   "source": [
    "## Kuantitas Produk yang Banyak Terjual\n",
    "\n",
    "Tampilkan produk yang paling banyak terjual dari segi kuantitas. Jika ada lebih dari 1 produk dengan nilai yang sama, tampilkan semua produk tersebut.\n",
    "\n",
    "Nama kolom yang harus ditampilkan: kode_produk, nama_produk,total_qty."
   ]
  },
  {
   "cell_type": "raw",
   "metadata": {},
   "source": [
    "select b.kode_produk, b.nama_produk, total_qty from ms_produk b inner join (select kode_produk, sum(qty) total_qty from tr_penjualan_detail group by kode_produk order by total_qty desc limit 2) a on a.kode_produk=b.kode_produk"
   ]
  },
  {
   "cell_type": "markdown",
   "metadata": {},
   "source": [
    "## Pelanggan Paling Tinggi Nilai Belanjanya\n",
    "\n",
    "Siapa saja pelanggan yang paling banyak menghabiskan uangnya untuk belanja? Jika ada lebih dari 1 pelanggan dengan nilai yang sama, tampilkan semua pelanggan tersebut.\n",
    "\n",
    "Nama kolom yang harus ditampilkan: kode_pelanggan, nama_pelanggan, total_harga."
   ]
  },
  {
   "cell_type": "raw",
   "metadata": {},
   "source": [
    "select b.kode_pelanggan, c.nama_pelanggan, b.total_harga from ms_pelanggan c inner join (select kode_pelanggan, sum(total_harga) total_harga from (select distinct b.kode_transaksi, b.kode_pelanggan, a.total_harga total_harga from tr_penjualan b inner join (select kode_transaksi, sum(total) total_harga from (select kode_transaksi, qty, harga_satuan, qty*harga_satuan total from tr_penjualan_detail) tr_penjualan_detail group by kode_transaksi) a on b.kode_transaksi=a.kode_transaksi) tr_penjualan group by kode_pelanggan order by total_harga desc limit 1) b on c.kode_pelanggan=b.kode_pelanggan"
   ]
  },
  {
   "cell_type": "markdown",
   "metadata": {},
   "source": [
    "## Pelanggan yang Belum Pernah Berbelanja\n",
    "\n",
    "Tampilkan daftar pelanggan yang belum pernah melakukan transaksi.\n",
    "\n",
    "Nama kolom yang harus ditampilkan: kode_pelanggan, nama_pelanggan, alamat."
   ]
  },
  {
   "cell_type": "raw",
   "metadata": {},
   "source": [
    "select a.kode_pelanggan, a.nama_pelanggan, a.alamat from ms_pelanggan a where not exists(select b.kode_pelanggan from tr_penjualan b where a.kode_pelanggan=b.kode_pelanggan)"
   ]
  },
  {
   "cell_type": "markdown",
   "metadata": {},
   "source": [
    "## Transaksi Belanja dengan Daftar Belanja lebih dari 1\n",
    "\n",
    "Tampilkan transaksi-transaksi yang memiliki jumlah item produk lebih dari 1 jenis produk. Dengan lain kalimat, tampilkan transaksi-transaksi yang memiliki jumlah baris data pada table tr_penjualan_detail lebih dari satu.\n",
    "\n",
    "Nama kolom yang harus ditampilkan:  kode_transaksi, kode_pelanggan, nama_pelanggan, tanggal_transaksi, jumlah_detail"
   ]
  },
  {
   "cell_type": "raw",
   "metadata": {},
   "source": [
    "select c.kode_transaksi, c.kode_pelanggan, d.nama_pelanggan, c.tanggal_transaksi, c.jumlah_detail from ms_pelanggan d inner join (select distinct b.kode_transaksi, b.kode_pelanggan, b.tanggal_transaksi, a.jumlah jumlah_detail from tr_penjualan b inner join (select kode_transaksi, count(*) jumlah from tr_penjualan_detail group by kode_transaksi having count(*) >1) a on b.kode_transaksi=a.kode_transaksi) c on d.kode_pelanggan=c.kode_pelanggan"
   ]
  }
 ],
 "metadata": {
  "kernelspec": {
   "display_name": "Python 3",
   "language": "python",
   "name": "python3"
  },
  "language_info": {
   "codemirror_mode": {
    "name": "ipython",
    "version": 3
   },
   "file_extension": ".py",
   "mimetype": "text/x-python",
   "name": "python",
   "nbconvert_exporter": "python",
   "pygments_lexer": "ipython3",
   "version": "3.8.5"
  }
 },
 "nbformat": 4,
 "nbformat_minor": 4
}
