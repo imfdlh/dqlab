{
 "cells": [
  {
   "cell_type": "markdown",
   "metadata": {},
   "source": [
    "# DQLab - Data Engineer Challenge with SQL\n",
    "![title](tables.png)"
   ]
  },
  {
   "cell_type": "code",
   "execution_count": 1,
   "metadata": {},
   "outputs": [
    {
     "name": "stdout",
     "output_type": "stream",
     "text": [
      "Requirement already satisfied: ipython-sql in b:\\programdata\\anaconda3\\lib\\site-packages (0.4.0)\n",
      "Requirement already satisfied: prettytable<1 in b:\\programdata\\anaconda3\\lib\\site-packages (from ipython-sql) (0.7.2)\n",
      "Requirement already satisfied: six in b:\\programdata\\anaconda3\\lib\\site-packages (from ipython-sql) (1.14.0)\n",
      "Requirement already satisfied: sqlalchemy>=0.6.7 in b:\\programdata\\anaconda3\\lib\\site-packages (from ipython-sql) (1.3.13)\n",
      "Requirement already satisfied: ipython-genutils>=0.1.0 in b:\\programdata\\anaconda3\\lib\\site-packages (from ipython-sql) (0.2.0)\n",
      "Requirement already satisfied: ipython>=1.0 in b:\\programdata\\anaconda3\\lib\\site-packages (from ipython-sql) (7.12.0)\n",
      "Requirement already satisfied: sqlparse in b:\\programdata\\anaconda3\\lib\\site-packages (from ipython-sql) (0.4.1)\n",
      "Requirement already satisfied: pickleshare in b:\\programdata\\anaconda3\\lib\\site-packages (from ipython>=1.0->ipython-sql) (0.7.5)\n",
      "Requirement already satisfied: traitlets>=4.2 in b:\\programdata\\anaconda3\\lib\\site-packages (from ipython>=1.0->ipython-sql) (4.3.3)\n",
      "Requirement already satisfied: decorator in b:\\programdata\\anaconda3\\lib\\site-packages (from ipython>=1.0->ipython-sql) (4.4.1)\n",
      "Requirement already satisfied: prompt-toolkit!=3.0.0,!=3.0.1,<3.1.0,>=2.0.0 in b:\\programdata\\anaconda3\\lib\\site-packages (from ipython>=1.0->ipython-sql) (3.0.3)\n",
      "Requirement already satisfied: pygments in b:\\programdata\\anaconda3\\lib\\site-packages (from ipython>=1.0->ipython-sql) (2.5.2)\n",
      "Requirement already satisfied: backcall in b:\\programdata\\anaconda3\\lib\\site-packages (from ipython>=1.0->ipython-sql) (0.1.0)\n",
      "Requirement already satisfied: jedi>=0.10 in b:\\programdata\\anaconda3\\lib\\site-packages (from ipython>=1.0->ipython-sql) (0.14.1)\n",
      "Requirement already satisfied: colorama; sys_platform == \"win32\" in b:\\programdata\\anaconda3\\lib\\site-packages (from ipython>=1.0->ipython-sql) (0.4.3)\n",
      "Requirement already satisfied: setuptools>=18.5 in b:\\programdata\\anaconda3\\lib\\site-packages (from ipython>=1.0->ipython-sql) (45.2.0.post20200210)\n",
      "Requirement already satisfied: wcwidth in b:\\programdata\\anaconda3\\lib\\site-packages (from prompt-toolkit!=3.0.0,!=3.0.1,<3.1.0,>=2.0.0->ipython>=1.0->ipython-sql) (0.1.8)\n",
      "Requirement already satisfied: parso>=0.5.0 in b:\\programdata\\anaconda3\\lib\\site-packages (from jedi>=0.10->ipython>=1.0->ipython-sql) (0.5.2)\n"
     ]
    }
   ],
   "source": [
    "!pip install ipython-sql"
   ]
  },
  {
   "cell_type": "code",
   "execution_count": 2,
   "metadata": {},
   "outputs": [],
   "source": [
    "%load_ext sql"
   ]
  },
  {
   "cell_type": "code",
   "execution_count": 3,
   "metadata": {},
   "outputs": [],
   "source": [
    "import sqlalchemy"
   ]
  },
  {
   "cell_type": "code",
   "execution_count": 4,
   "metadata": {},
   "outputs": [],
   "source": [
    "%sql sqlite:///dqlab_product_mart.db"
   ]
  },
  {
   "cell_type": "code",
   "execution_count": 5,
   "metadata": {},
   "outputs": [
    {
     "name": "stdout",
     "output_type": "stream",
     "text": [
      "['ms_pelanggan', 'ms_produk', 'tr_penjualan', 'tr_penjualan_detail']\n"
     ]
    }
   ],
   "source": [
    "tables = sqlalchemy.create_engine('sqlite:///dqlab_product_mart.db').table_names()\n",
    "print(tables)"
   ]
  },
  {
   "cell_type": "markdown",
   "metadata": {},
   "source": [
    "---\n",
    "## Produk DQLab Mart\n",
    "\n",
    "Mengacu pada table ms_produk, tampilkan daftar produk yang memiliki harga antara 50.000 and 150.000.\n",
    "\n",
    "##### - Nama kolom yang harus ditampilkan: no_urut, kode_produk, nama_produk, dan harga."
   ]
  },
  {
   "cell_type": "code",
   "execution_count": 6,
   "metadata": {},
   "outputs": [
    {
     "name": "stdout",
     "output_type": "stream",
     "text": [
      " * sqlite:///dqlab_product_mart.db\n",
      "Done.\n"
     ]
    },
    {
     "data": {
      "text/html": [
       "<table>\n",
       "    <tr>\n",
       "        <th>no_urut</th>\n",
       "        <th>kode_produk</th>\n",
       "        <th>nama_produk</th>\n",
       "        <th>harga</th>\n",
       "    </tr>\n",
       "    <tr>\n",
       "        <td>1</td>\n",
       "        <td>prod-01</td>\n",
       "        <td>Kotak Pensil DQLab</td>\n",
       "        <td>60500</td>\n",
       "    </tr>\n",
       "    <tr>\n",
       "        <td>2</td>\n",
       "        <td>prod-02</td>\n",
       "        <td>Flashdisk DQLab 64 GB</td>\n",
       "        <td>55000</td>\n",
       "    </tr>\n",
       "    <tr>\n",
       "        <td>3</td>\n",
       "        <td>prod-03</td>\n",
       "        <td>Gift Voucher DQLab 100rb</td>\n",
       "        <td>100000</td>\n",
       "    </tr>\n",
       "    <tr>\n",
       "        <td>6</td>\n",
       "        <td>prod-06</td>\n",
       "        <td>Pulpen Multifunction + Laser DQLab</td>\n",
       "        <td>92500</td>\n",
       "    </tr>\n",
       "    <tr>\n",
       "        <td>9</td>\n",
       "        <td>prod-09</td>\n",
       "        <td>Buku Planner Agenda DQLab</td>\n",
       "        <td>92000</td>\n",
       "    </tr>\n",
       "    <tr>\n",
       "        <td>10</td>\n",
       "        <td>prod-10</td>\n",
       "        <td>Sticky Notes DQLab 500 sheets</td>\n",
       "        <td>55000</td>\n",
       "    </tr>\n",
       "</table>"
      ],
      "text/plain": [
       "[(1, 'prod-01', 'Kotak Pensil DQLab', 60500),\n",
       " (2, 'prod-02', 'Flashdisk DQLab 64 GB', 55000),\n",
       " (3, 'prod-03', 'Gift Voucher DQLab 100rb', 100000),\n",
       " (6, 'prod-06', 'Pulpen Multifunction + Laser DQLab', 92500),\n",
       " (9, 'prod-09', 'Buku Planner Agenda DQLab', 92000),\n",
       " (10, 'prod-10', 'Sticky Notes DQLab 500 sheets', 55000)]"
      ]
     },
     "execution_count": 6,
     "metadata": {},
     "output_type": "execute_result"
    }
   ],
   "source": [
    "%sql SELECT no_urut, kode_produk, nama_produk, harga FROM ms_produk WHERE harga >= 50000 AND harga <= 150000;"
   ]
  },
  {
   "cell_type": "markdown",
   "metadata": {},
   "source": [
    "---\n",
    "## Thumb drive di DQLab Mart\n",
    "\n",
    "Tampilkan semua produk yang mengandung kata Flashdisk.\n",
    "\n",
    "##### - Nama kolom yang harus ditampilkan: no_urut, kode_produk, nama_produk, dan harga."
   ]
  },
  {
   "cell_type": "code",
   "execution_count": 7,
   "metadata": {},
   "outputs": [
    {
     "name": "stdout",
     "output_type": "stream",
     "text": [
      " * sqlite:///dqlab_product_mart.db\n",
      "Done.\n"
     ]
    },
    {
     "data": {
      "text/html": [
       "<table>\n",
       "    <tr>\n",
       "        <th>no_urut</th>\n",
       "        <th>kode_produk</th>\n",
       "        <th>nama_produk</th>\n",
       "        <th>harga</th>\n",
       "    </tr>\n",
       "    <tr>\n",
       "        <td>2</td>\n",
       "        <td>prod-02</td>\n",
       "        <td>Flashdisk DQLab 64 GB</td>\n",
       "        <td>55000</td>\n",
       "    </tr>\n",
       "    <tr>\n",
       "        <td>4</td>\n",
       "        <td>prod-04</td>\n",
       "        <td>Flashdisk DQLab 32 GB</td>\n",
       "        <td>40000</td>\n",
       "    </tr>\n",
       "</table>"
      ],
      "text/plain": [
       "[(2, 'prod-02', 'Flashdisk DQLab 64 GB', 55000),\n",
       " (4, 'prod-04', 'Flashdisk DQLab 32 GB', 40000)]"
      ]
     },
     "execution_count": 7,
     "metadata": {},
     "output_type": "execute_result"
    }
   ],
   "source": [
    "%sql SELECT no_urut, kode_produk, nama_produk, harga FROM ms_produk WHERE nama_produk LIKE '%Flashdisk%';"
   ]
  },
  {
   "cell_type": "markdown",
   "metadata": {},
   "source": [
    "---\n",
    "## Pelanggan Bergelar\n",
    "\n",
    "Tampilkan hanya nama-nama pelanggan yang hanya memiliki gelar-gelar berikut: S.H, Ir. dan Drs.\n",
    "\n",
    "##### - Nama kolom yang harus ditampilkan: no_urut, kode_pelanggan, nama_pelanggan, dan alamat."
   ]
  },
  {
   "cell_type": "code",
   "execution_count": 8,
   "metadata": {},
   "outputs": [
    {
     "name": "stdout",
     "output_type": "stream",
     "text": [
      " * sqlite:///dqlab_product_mart.db\n",
      "Done.\n"
     ]
    },
    {
     "data": {
      "text/html": [
       "<table>\n",
       "    <tr>\n",
       "        <th>no_urut</th>\n",
       "        <th>kode_pelanggan</th>\n",
       "        <th>nama_pelanggan</th>\n",
       "        <th>alamat</th>\n",
       "    </tr>\n",
       "    <tr>\n",
       "        <td>1</td>\n",
       "        <td>cust0001</td>\n",
       "        <td>Eva Novianti, S.H.</td>\n",
       "        <td>Vila Sempilan, No. 67</td>\n",
       "    </tr>\n",
       "    <tr>\n",
       "        <td>9</td>\n",
       "        <td>cust0009</td>\n",
       "        <td>Ir. Ita Nugraha</td>\n",
       "        <td>Perumahan Sagitarius, Gang Kelapa No. 6</td>\n",
       "    </tr>\n",
       "    <tr>\n",
       "        <td>10</td>\n",
       "        <td>cust0010</td>\n",
       "        <td>Djoko Wardoyo, Drs.</td>\n",
       "        <td>Bukit Pintar Data, Blok A1 No. 1</td>\n",
       "    </tr>\n",
       "</table>"
      ],
      "text/plain": [
       "[(1, 'cust0001', 'Eva Novianti, S.H.', 'Vila Sempilan, No. 67'),\n",
       " (9, 'cust0009', 'Ir. Ita Nugraha', 'Perumahan Sagitarius, Gang Kelapa No. 6'),\n",
       " (10, 'cust0010', 'Djoko Wardoyo, Drs.', 'Bukit Pintar Data, Blok A1 No. 1')]"
      ]
     },
     "execution_count": 8,
     "metadata": {},
     "output_type": "execute_result"
    }
   ],
   "source": [
    "%sql SELECT no_urut, kode_pelanggan, nama_pelanggan, alamat FROM ms_pelanggan where nama_pelanggan LIKE '%S.H%' OR nama_pelanggan LIKE '%Ir.%' OR nama_pelanggan LIKE '%Drs.%';"
   ]
  },
  {
   "cell_type": "markdown",
   "metadata": {},
   "source": [
    "---\n",
    "## Mengurutkan Nama Pelanggan\n",
    "\n",
    "Tampilkan nama-nama pelanggan dan urutkan hasilnya berdasarkan kolom nama_pelanggan dari yang terkecil ke yang terbesar (A ke Z).\n",
    "\n",
    "##### - Nama kolom yang harus ditampilkan: nama_pelanggan."
   ]
  },
  {
   "cell_type": "code",
   "execution_count": 9,
   "metadata": {},
   "outputs": [
    {
     "name": "stdout",
     "output_type": "stream",
     "text": [
      " * sqlite:///dqlab_product_mart.db\n",
      "Done.\n"
     ]
    },
    {
     "data": {
      "text/html": [
       "<table>\n",
       "    <tr>\n",
       "        <th>nama_pelanggan</th>\n",
       "    </tr>\n",
       "    <tr>\n",
       "        <td>Agus Cahyono</td>\n",
       "    </tr>\n",
       "    <tr>\n",
       "        <td>Djoko Wardoyo, Drs.</td>\n",
       "    </tr>\n",
       "    <tr>\n",
       "        <td>Eva Novianti, S.H.</td>\n",
       "    </tr>\n",
       "    <tr>\n",
       "        <td>Heidi Goh</td>\n",
       "    </tr>\n",
       "    <tr>\n",
       "        <td>Ir. Ita Nugraha</td>\n",
       "    </tr>\n",
       "    <tr>\n",
       "        <td>Irwan Setianto</td>\n",
       "    </tr>\n",
       "    <tr>\n",
       "        <td>Jokolono Sukarman</td>\n",
       "    </tr>\n",
       "    <tr>\n",
       "        <td>Maria Sirait</td>\n",
       "    </tr>\n",
       "    <tr>\n",
       "        <td>Tommy Sinaga</td>\n",
       "    </tr>\n",
       "    <tr>\n",
       "        <td>Unang Handoko</td>\n",
       "    </tr>\n",
       "</table>"
      ],
      "text/plain": [
       "[('Agus Cahyono',),\n",
       " ('Djoko Wardoyo, Drs.',),\n",
       " ('Eva Novianti, S.H.',),\n",
       " ('Heidi Goh',),\n",
       " ('Ir. Ita Nugraha',),\n",
       " ('Irwan Setianto',),\n",
       " ('Jokolono Sukarman',),\n",
       " ('Maria Sirait',),\n",
       " ('Tommy Sinaga',),\n",
       " ('Unang Handoko',)]"
      ]
     },
     "execution_count": 9,
     "metadata": {},
     "output_type": "execute_result"
    }
   ],
   "source": [
    "%sql SELECT nama_pelanggan FROM ms_pelanggan ORDER BY nama_pelanggan ASC;"
   ]
  },
  {
   "cell_type": "markdown",
   "metadata": {},
   "source": [
    "---\n",
    "## Mengurutkan Nama Pelanggan Tanpa Gelar\n",
    "\n",
    "Tampilkan nama-nama pelanggan dan urutkan hasilnya berdasarkan kolom nama_pelanggan dari yang terkecil ke yang terbesar (A ke Z), namun gelar tidak boleh menjadi bagian dari urutan. Contoh: Ir. Agus Nugraha harus berada di atas Heidi Goh.\n",
    "\n",
    "##### - Nama kolom yang harus ditampilkan: nama_pelanggan."
   ]
  },
  {
   "cell_type": "code",
   "execution_count": 10,
   "metadata": {},
   "outputs": [
    {
     "name": "stdout",
     "output_type": "stream",
     "text": [
      " * sqlite:///dqlab_product_mart.db\n",
      "Done.\n"
     ]
    },
    {
     "data": {
      "text/html": [
       "<table>\n",
       "    <tr>\n",
       "        <th>nama_pelanggan</th>\n",
       "    </tr>\n",
       "    <tr>\n",
       "        <td>Agus Cahyono</td>\n",
       "    </tr>\n",
       "    <tr>\n",
       "        <td>Djoko Wardoyo, Drs.</td>\n",
       "    </tr>\n",
       "    <tr>\n",
       "        <td>Eva Novianti, S.H.</td>\n",
       "    </tr>\n",
       "    <tr>\n",
       "        <td>Heidi Goh</td>\n",
       "    </tr>\n",
       "    <tr>\n",
       "        <td>Irwan Setianto</td>\n",
       "    </tr>\n",
       "    <tr>\n",
       "        <td>Ir. Ita Nugraha</td>\n",
       "    </tr>\n",
       "    <tr>\n",
       "        <td>Jokolono Sukarman</td>\n",
       "    </tr>\n",
       "    <tr>\n",
       "        <td>Maria Sirait</td>\n",
       "    </tr>\n",
       "    <tr>\n",
       "        <td>Tommy Sinaga</td>\n",
       "    </tr>\n",
       "    <tr>\n",
       "        <td>Unang Handoko</td>\n",
       "    </tr>\n",
       "</table>"
      ],
      "text/plain": [
       "[('Agus Cahyono',),\n",
       " ('Djoko Wardoyo, Drs.',),\n",
       " ('Eva Novianti, S.H.',),\n",
       " ('Heidi Goh',),\n",
       " ('Irwan Setianto',),\n",
       " ('Ir. Ita Nugraha',),\n",
       " ('Jokolono Sukarman',),\n",
       " ('Maria Sirait',),\n",
       " ('Tommy Sinaga',),\n",
       " ('Unang Handoko',)]"
      ]
     },
     "execution_count": 10,
     "metadata": {},
     "output_type": "execute_result"
    }
   ],
   "source": [
    "%sql SELECT nama_pelanggan FROM ms_pelanggan ORDER BY CASE WHEN SUBSTR(nama_pelanggan,1,4) = 'Ir. ' THEN REPLACE(nama_pelanggan,'Ir. ', '') ELSE nama_pelanggan END;"
   ]
  },
  {
   "cell_type": "markdown",
   "metadata": {},
   "source": [
    "---\n",
    "## Nama Pelanggan yang Paling Panjang\n",
    "\n",
    "Tampilkan nama pelanggan yang memiliki nama paling panjang. Jika ada lebih dari 1 orang yang memiliki panjang nama yang sama, tampilkan semuanya.\n",
    "\n",
    "##### - Nama kolom yang harus ditampilkan: nama_pelanggan."
   ]
  },
  {
   "cell_type": "code",
   "execution_count": 11,
   "metadata": {},
   "outputs": [
    {
     "name": "stdout",
     "output_type": "stream",
     "text": [
      " * sqlite:///dqlab_product_mart.db\n",
      "Done.\n"
     ]
    },
    {
     "data": {
      "text/html": [
       "<table>\n",
       "    <tr>\n",
       "        <th>nama_pelanggan</th>\n",
       "    </tr>\n",
       "    <tr>\n",
       "        <td>Djoko Wardoyo, Drs.</td>\n",
       "    </tr>\n",
       "</table>"
      ],
      "text/plain": [
       "[('Djoko Wardoyo, Drs.',)]"
      ]
     },
     "execution_count": 11,
     "metadata": {},
     "output_type": "execute_result"
    }
   ],
   "source": [
    "%sql SELECT nama_pelanggan FROM ms_pelanggan WHERE LENGTH(nama_pelanggan) = (SELECT MAX(hasil) FROM (SELECT LENGTH(nama_pelanggan) AS hasil FROM ms_pelanggan) ms_pelanggan);"
   ]
  },
  {
   "cell_type": "markdown",
   "metadata": {},
   "source": [
    "---\n",
    "## Nama Pelanggan yang Paling Panjang dengan Gelar\n",
    "\n",
    "Tampilkan nama orang yang memiliki nama paling panjang (pada row atas), dan nama orang paling pendek (pada row setelahnya). Gelar menjadi bagian dari nama. Jika ada lebih dari satu nama yang paling panjang atau paling pendek, harus ditampilkan semuanya.\n",
    "\n",
    "##### - Nama kolom yang harus ditampilkan: nama_pelanggan."
   ]
  },
  {
   "cell_type": "code",
   "execution_count": 12,
   "metadata": {},
   "outputs": [
    {
     "name": "stdout",
     "output_type": "stream",
     "text": [
      " * sqlite:///dqlab_product_mart.db\n",
      "Done.\n"
     ]
    },
    {
     "data": {
      "text/html": [
       "<table>\n",
       "    <tr>\n",
       "        <th>nama_pelanggan</th>\n",
       "    </tr>\n",
       "    <tr>\n",
       "        <td>Djoko Wardoyo, Drs.</td>\n",
       "    </tr>\n",
       "    <tr>\n",
       "        <td>Heidi Goh</td>\n",
       "    </tr>\n",
       "</table>"
      ],
      "text/plain": [
       "[('Djoko Wardoyo, Drs.',), ('Heidi Goh',)]"
      ]
     },
     "execution_count": 12,
     "metadata": {},
     "output_type": "execute_result"
    }
   ],
   "source": [
    "%sql SELECT nama_pelanggan FROM ms_pelanggan WHERE LENGTH(nama_pelanggan) = (SELECT MAX(hasil) FROM (SELECT LENGTH(nama_pelanggan) hasil FROM ms_pelanggan) ms_pelanggan) UNION SELECT nama_pelanggan FROM ms_pelanggan WHERE LENGTH(nama_pelanggan) = (SELECT MIN(hasil) FROM (SELECT LENGTH(nama_pelanggan) hasil FROM ms_pelanggan) ms_pelanggan);"
   ]
  },
  {
   "cell_type": "markdown",
   "metadata": {},
   "source": [
    "---\n",
    "## Kuantitas Produk yang Banyak Terjual\n",
    "\n",
    "Tampilkan produk yang paling banyak terjual dari segi kuantitas. Jika ada lebih dari 1 produk dengan nilai yang sama, tampilkan semua produk tersebut.\n",
    "\n",
    "##### - Nama kolom yang harus ditampilkan: kode_produk, nama_produk,total_qty."
   ]
  },
  {
   "cell_type": "code",
   "execution_count": 13,
   "metadata": {},
   "outputs": [
    {
     "name": "stdout",
     "output_type": "stream",
     "text": [
      " * sqlite:///dqlab_product_mart.db\n",
      "Done.\n"
     ]
    },
    {
     "data": {
      "text/html": [
       "<table>\n",
       "    <tr>\n",
       "        <th>kode_produk</th>\n",
       "        <th>nama_produk</th>\n",
       "        <th>total_qty</th>\n",
       "    </tr>\n",
       "    <tr>\n",
       "        <td>prod-08</td>\n",
       "        <td>Gantungan Kunci DQLab</td>\n",
       "        <td>7</td>\n",
       "    </tr>\n",
       "    <tr>\n",
       "        <td>prod-04</td>\n",
       "        <td>Flashdisk DQLab 32 GB</td>\n",
       "        <td>7</td>\n",
       "    </tr>\n",
       "</table>"
      ],
      "text/plain": [
       "[('prod-08', 'Gantungan Kunci DQLab', 7),\n",
       " ('prod-04', 'Flashdisk DQLab 32 GB', 7)]"
      ]
     },
     "execution_count": 13,
     "metadata": {},
     "output_type": "execute_result"
    }
   ],
   "source": [
    "%sql SELECT msp.kode_produk, nama_produk, total_qty FROM ms_produk msp INNER JOIN (SELECT kode_produk, SUM(qty) AS total_qty FROM tr_penjualan_detail GROUP BY kode_produk ORDER BY total_qty DESC LIMIT 2) AS a ON a.kode_produk = msp.kode_produk;"
   ]
  },
  {
   "cell_type": "markdown",
   "metadata": {},
   "source": [
    "---\n",
    "## Pelanggan Paling Tinggi Nilai Belanjanya\n",
    "\n",
    "Siapa saja pelanggan yang paling banyak menghabiskan uangnya untuk belanja? Jika ada lebih dari 1 pelanggan dengan nilai yang sama, tampilkan semua pelanggan tersebut.\n",
    "\n",
    "##### - Nama kolom yang harus ditampilkan: kode_pelanggan, nama_pelanggan, total_harga."
   ]
  },
  {
   "cell_type": "code",
   "execution_count": 14,
   "metadata": {},
   "outputs": [
    {
     "name": "stdout",
     "output_type": "stream",
     "text": [
      " * sqlite:///dqlab_product_mart.db\n",
      "Done.\n"
     ]
    },
    {
     "data": {
      "text/html": [
       "<table>\n",
       "    <tr>\n",
       "        <th>kode_pelanggan</th>\n",
       "        <th>nama_pelanggan</th>\n",
       "        <th>total_harga</th>\n",
       "    </tr>\n",
       "    <tr>\n",
       "        <td>cust0007</td>\n",
       "        <td>Agus Cahyono</td>\n",
       "        <td>175000</td>\n",
       "    </tr>\n",
       "</table>"
      ],
      "text/plain": [
       "[('cust0007', 'Agus Cahyono', 175000)]"
      ]
     },
     "execution_count": 14,
     "metadata": {},
     "output_type": "execute_result"
    }
   ],
   "source": [
    "%sql SELECT trp.kode_pelanggan, nama_pelanggan, total_harga FROM ms_pelanggan msp INNER JOIN (SELECT kode_pelanggan, SUM(total_harga) AS total_harga FROM (SELECT DISTINCT trp.kode_transaksi, trp.kode_pelanggan, a.total_harga AS total_harga FROM tr_penjualan trp INNER JOIN (SELECT kode_transaksi, SUM(total) AS total_harga FROM (SELECT kode_transaksi, qty, harga_satuan, qty*harga_satuan AS total FROM tr_penjualan_detail) tr_penjualan_detail GROUP BY kode_transaksi) a ON trp.kode_transaksi = a.kode_transaksi) tr_penjualan GROUP BY kode_pelanggan ORDER BY total_harga DESC LIMIT 1) trp ON msp.kode_pelanggan = trp.kode_pelanggan;"
   ]
  },
  {
   "cell_type": "markdown",
   "metadata": {},
   "source": [
    "---\n",
    "## Pelanggan yang Belum Pernah Berbelanja\n",
    "\n",
    "Tampilkan daftar pelanggan yang belum pernah melakukan transaksi.\n",
    "\n",
    "##### - Nama kolom yang harus ditampilkan: kode_pelanggan, nama_pelanggan, alamat."
   ]
  },
  {
   "cell_type": "code",
   "execution_count": 15,
   "metadata": {},
   "outputs": [
    {
     "name": "stdout",
     "output_type": "stream",
     "text": [
      " * sqlite:///dqlab_product_mart.db\n",
      "Done.\n"
     ]
    },
    {
     "data": {
      "text/html": [
       "<table>\n",
       "    <tr>\n",
       "        <th>kode_pelanggan</th>\n",
       "        <th>nama_pelanggan</th>\n",
       "        <th>alamat</th>\n",
       "    </tr>\n",
       "    <tr>\n",
       "        <td>cust0002</td>\n",
       "        <td>Heidi Goh</td>\n",
       "        <td>Ruko Sawit Permai 72 No. 1</td>\n",
       "    </tr>\n",
       "    <tr>\n",
       "        <td>cust0005</td>\n",
       "        <td>Tommy Sinaga</td>\n",
       "        <td>Avatar Village, Blok C8 No. 888</td>\n",
       "    </tr>\n",
       "    <tr>\n",
       "        <td>cust0006</td>\n",
       "        <td>Irwan Setianto</td>\n",
       "        <td>Rukan Gunung Seribu, Blok O1 - No. 1</td>\n",
       "    </tr>\n",
       "    <tr>\n",
       "        <td>cust0009</td>\n",
       "        <td>Ir. Ita Nugraha</td>\n",
       "        <td>Perumahan Sagitarius, Gang Kelapa No. 6</td>\n",
       "    </tr>\n",
       "    <tr>\n",
       "        <td>cust0010</td>\n",
       "        <td>Djoko Wardoyo, Drs.</td>\n",
       "        <td>Bukit Pintar Data, Blok A1 No. 1</td>\n",
       "    </tr>\n",
       "</table>"
      ],
      "text/plain": [
       "[('cust0002', 'Heidi Goh', 'Ruko Sawit Permai 72 No. 1'),\n",
       " ('cust0005', 'Tommy Sinaga', 'Avatar Village, Blok C8 No. 888'),\n",
       " ('cust0006', 'Irwan Setianto', 'Rukan Gunung Seribu, Blok O1 - No. 1'),\n",
       " ('cust0009', 'Ir. Ita Nugraha', 'Perumahan Sagitarius, Gang Kelapa No. 6'),\n",
       " ('cust0010', 'Djoko Wardoyo, Drs.', 'Bukit Pintar Data, Blok A1 No. 1')]"
      ]
     },
     "execution_count": 15,
     "metadata": {},
     "output_type": "execute_result"
    }
   ],
   "source": [
    "%sql SELECT msp.kode_pelanggan, nama_pelanggan, alamat FROM ms_pelanggan msp WHERE NOT EXISTS(SELECT trp.kode_pelanggan FROM tr_penjualan trp WHERE msp.kode_pelanggan = trp.kode_pelanggan);"
   ]
  },
  {
   "cell_type": "markdown",
   "metadata": {},
   "source": [
    "---\n",
    "## Transaksi Belanja dengan Daftar Belanja lebih dari 1\n",
    "\n",
    "Tampilkan transaksi-transaksi yang memiliki jumlah item produk lebih dari 1 jenis produk. Dengan lain kalimat, tampilkan transaksi-transaksi yang memiliki jumlah baris data pada table tr_penjualan_detail lebih dari satu.\n",
    "\n",
    "##### - Nama kolom yang harus ditampilkan:  kode_transaksi, kode_pelanggan, nama_pelanggan, tanggal_transaksi, jumlah_detail"
   ]
  },
  {
   "cell_type": "code",
   "execution_count": 16,
   "metadata": {},
   "outputs": [
    {
     "name": "stdout",
     "output_type": "stream",
     "text": [
      " * sqlite:///dqlab_product_mart.db\n",
      "Done.\n"
     ]
    },
    {
     "data": {
      "text/html": [
       "<table>\n",
       "    <tr>\n",
       "        <th>kode_transaksi</th>\n",
       "        <th>kode_pelanggan</th>\n",
       "        <th>nama_pelanggan</th>\n",
       "        <th>tanggal_transaksi</th>\n",
       "        <th>jumlah_detail</th>\n",
       "    </tr>\n",
       "    <tr>\n",
       "        <td>tr-0001</td>\n",
       "        <td>cust0007</td>\n",
       "        <td>Agus Cahyono</td>\n",
       "        <td>2019-06-07 10:09:46</td>\n",
       "        <td>2</td>\n",
       "    </tr>\n",
       "</table>"
      ],
      "text/plain": [
       "[('tr-0001', 'cust0007', 'Agus Cahyono', '2019-06-07 10:09:46', 2)]"
      ]
     },
     "execution_count": 16,
     "metadata": {},
     "output_type": "execute_result"
    }
   ],
   "source": [
    "%sql SELECT c.kode_transaksi, c.kode_pelanggan, nama_pelanggan, c.tanggal_transaksi, c.jumlah_detail FROM ms_pelanggan msp INNER JOIN (SELECT DISTINCT trp.kode_transaksi, kode_pelanggan, tanggal_transaksi, a.jumlah AS jumlah_detail FROM tr_penjualan trp INNER JOIN (SELECT kode_transaksi, COUNT(1) jumlah FROM tr_penjualan_detail GROUP BY kode_transaksi HAVING COUNT(*) > 1) a ON trp.kode_transaksi = a.kode_transaksi) c ON msp.kode_pelanggan = c.kode_pelanggan;"
   ]
  }
 ],
 "metadata": {
  "kernelspec": {
   "display_name": "Python 3",
   "language": "python",
   "name": "python3"
  },
  "language_info": {
   "codemirror_mode": {
    "name": "ipython",
    "version": 3
   },
   "file_extension": ".py",
   "mimetype": "text/x-python",
   "name": "python",
   "nbconvert_exporter": "python",
   "pygments_lexer": "ipython3",
   "version": "3.7.6"
  }
 },
 "nbformat": 4,
 "nbformat_minor": 4
}
